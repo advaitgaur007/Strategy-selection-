{
 "cells": [
  {
   "cell_type": "code",
   "execution_count": 1,
   "id": "a89f5ef0-01b2-4093-984e-8cb117820e91",
   "metadata": {},
   "outputs": [],
   "source": [
    "import yfinance as yf\n",
    "import pandas as pd\n",
    "import numpy as np\n",
    "import talib\n",
    "import joblib\n",
    "from datetime import datetime,timedelta\n",
    "from dateutil.relativedelta import relativedelta"
   ]
  },
  {
   "cell_type": "code",
   "execution_count": 2,
   "id": "30ec62b3-259e-4500-b0cc-b96858d04736",
   "metadata": {},
   "outputs": [],
   "source": [
    "#moving average\n",
    "def mac(ticker,sd,ed):\n",
    "    df=yf.download(ticker,sd,ed)\n",
    "    df['LTMA_today_end']=talib.SMA(df['Close'],timeperiod=50)\n",
    "    df['STMA_today_end']=talib.SMA(df['Close'],timeperiod=20)\n",
    "    df['tomorrow_position']=np.nan\n",
    "    le=df['STMA_today_end']>df['LTMA_today_end']\n",
    "    se=df['STMA_today_end']<df['LTMA_today_end']\n",
    "    df.loc[le,'tomorrow_position']=1\n",
    "    df.loc[se,'tomorrow_position']=-1\n",
    "    df['tomorrow_return']=((df['Close'].shift(-1)-df['Open'].shift(-1))/df['Open'].shift(-1))*df['tomorrow_position']\n",
    "    df=df.dropna()\n",
    "    return df"
   ]
  },
  {
   "cell_type": "code",
   "execution_count": 3,
   "id": "8cabbe70-933d-4f57-9139-adf03a1a3c00",
   "metadata": {},
   "outputs": [],
   "source": [
    "#volsurge\n",
    "def volsurge(ticker,sd,ed):\n",
    "    df=yf.download(ticker,sd,ed)\n",
    "    df['vol_avg']=df['Volume'].rolling(20).mean()\n",
    "    df['vol_avg']=df['vol_avg'].shift(1)\n",
    "    df['vol_std']=df['Volume'].rolling(20).std()\n",
    "    df['vol_std']=df['vol_std'].shift(1)\n",
    "    df['open_avg']=df['Open'].rolling(20).mean()\n",
    "    df['open_avg']=df['open_avg'].shift(1)\n",
    "    df['open_std']=df['Open'].rolling(20).std()\n",
    "    df['open_std']=df['open_std'].shift(1)\n",
    "    df['tomorrow_position']=0\n",
    "    le=(df['Volume']>=df['vol_avg']+df['vol_std'])&(df['Open']>=df['open_avg']+df['open_std'])\n",
    "    se=(df['Volume']<=df['vol_avg']-df['vol_std'])&(df['Open']<=df['open_avg']-df['open_std'])\n",
    "    df.loc[le,'tomorrow_position']=1\n",
    "    df.loc[se,'tomorrow_position']=-1\n",
    "    df['tomorrow_return']=((df['Close'].shift(-1)-df['Open'].shift(-1))/df['Open'].shift(-1))*df['tomorrow_position']\n",
    "    df=df.dropna()\n",
    "    return df\n"
   ]
  },
  {
   "cell_type": "code",
   "execution_count": 4,
   "id": "fee1658f-ffe4-444a-ad6b-e27368355394",
   "metadata": {},
   "outputs": [],
   "source": [
    "#rangetrading\n",
    "def range(ticker,sd,ed):\n",
    "    df=yf.download(ticker,sd,ed)\n",
    "    df['high_avg']=np.nan\n",
    "    df['low_avg']=np.nan\n",
    "    df['high_avg']=df['High'].rolling(20).max()\n",
    "    df['high_avg']=df['high_avg'].shift(1)\n",
    "    df['low_avg']=df['Low'].rolling(20).min()\n",
    "    df['low_avg']=df['low_avg'].shift(1)\n",
    "    df['tom_position']=0\n",
    "    le=df['Close']>df['high_avg']\n",
    "    se=df['Close']<df['low_avg']\n",
    "    df.loc[le,'tom_position']=1\n",
    "    df.loc[se,'tom_position']=-1\n",
    "    df['tomorrow_return']=df['tom_position']*((df['Close'].shift(1)-df['Open'].shift(1))/df['Open'].shift(1))\n",
    "    df=df.dropna()\n",
    "    df.drop(columns=['high_avg','low_avg'],inplace=True)\n",
    "    return df\n",
    "\n"
   ]
  },
  {
   "cell_type": "code",
   "execution_count": 5,
   "id": "38f6d390-a327-496e-bfb9-184bcfed2468",
   "metadata": {},
   "outputs": [],
   "source": [
    "from sklearn.linear_model import LinearRegression\n",
    "from sklearn.ensemble import RandomForestRegressor \n",
    "from sklearn.preprocessing import StandardScaler\n",
    "from sklearn.model_selection import train_test_split,GridSearchCV,cross_validate\n",
    "from sklearn.pipeline import Pipeline\n",
    "from sklearn.metrics import mean_squared_error\n",
    "\n",
    "    "
   ]
  },
  {
   "cell_type": "code",
   "execution_count": 6,
   "id": "ebff33c6-c4fb-4973-b969-8f7d8fc06edd",
   "metadata": {},
   "outputs": [],
   "source": [
    "def forest(df):\n",
    "    x=df.iloc[:,0:-1]#features\n",
    "    y=df.iloc[:,-1]#target(tomorrow's return)\n",
    "    x_train,x_test,y_train,y_test=train_test_split(x,y,test_size=0.2,random_state=42)\n",
    "    pipe=Pipeline([\n",
    "        ('scaler',StandardScaler()),\n",
    "        ('forest',RandomForestRegressor(n_jobs=-1))\n",
    "    ])\n",
    "    hyperparam={'forest__n_estimators':[1000,2000,5000]}\n",
    "    gs=GridSearchCV(cv=5,estimator=pipe,param_grid=hyperparam,scoring='neg_mean_squared_error')\n",
    "    gs.fit(x_train,y_train)\n",
    "    best=gs.best_estimator_\n",
    "    best.fit(x_train,y_train)\n",
    "    return best\n",
    "    "
   ]
  },
  {
   "cell_type": "code",
   "execution_count": 1,
   "id": "093515f7-e6c4-4f6b-84a5-09aa9fb756dd",
   "metadata": {},
   "outputs": [],
   "source": [
    "def mainfunc():\n",
    "    p1=0\n",
    "    p2=0\n",
    "    p3=0\n",
    "    ticker=input(\"Enter ticker of the company you want to trade\")\n",
    "    #getting start and end date\n",
    "    enddate=input(\"Enter present date in yy-mm-dd format\")\n",
    "    end_date_obj = datetime.strptime(enddate, '%Y-%m-%d')\n",
    "    start_date_obj = end_date_obj - relativedelta(years=1) #date one year from the date entered by user\n",
    "    startdate = start_date_obj.strftime('%Y-%m-%d')\n",
    "    #preparing dataframes\n",
    "    dfmac=mac(ticker,startdate,enddate)\n",
    "    dfvolsurge=volsurge(ticker,startdate,enddate)\n",
    "    dfrange=range(ticker,startdate,enddate)\n",
    "    #training and saving models\n",
    "    m1=forest(dfmac)\n",
    "    m2=forest(dfvolsurge)\n",
    "    m3=forest(dfrange)\n",
    "    joblib.dump(m1,'macpredictor')\n",
    "    joblib.dump(m2,'volsurgepredictor')\n",
    "    joblib.dump(m3,'rangepredictor')\n",
    "    #getting data from user\n",
    "    o=float(input(\"enter today's open\"))\n",
    "    h=float(input(\"enter today's high\"))\n",
    "    l=float(input(\"enter today's low\"))\n",
    "    c=float(input(\"enter today's close\"))\n",
    "    ac=float(input(\"enter today's adjusted close\"))\n",
    "    v=float(input(\"enter today's volume\"))\n",
    "    ltma=float(input(\"Enter 50 day long term moving average as of today's end\"))\n",
    "    stma=float(input(\"Enter 20 day short term moving average as of today's end\"))\n",
    "    if ltma<stma:\n",
    "        p1=1\n",
    "    else:\n",
    "        p1=-1\n",
    "    avgvol=float(input(\"Enter average volume for past 20 days\"))\n",
    "    stdvol=float(input(\"Enter standard deviation of volume for past 20 days\"))\n",
    "    avgopen=float(input(\"Enter average of open for past 20 days\"))\n",
    "    stdopen=float(input(\"Enter standard deviation of open for past 20 days\"))\n",
    "    if v>avgvol+stdvol and o>avgopen+stdopen:\n",
    "        p2=1\n",
    "    else:\n",
    "        p2=-1\n",
    "    avghigh=float(input(\"Enter average of high for the past 20 days\"))\n",
    "    avglow=float(input(\"Enter average of low for the past 20 days\"))\n",
    "    if c>avghigh:\n",
    "        p3=1\n",
    "    elif c<avglow:\n",
    "        p3=-1\n",
    "    m1=joblib.load('macpredictor')\n",
    "    m2=joblib.load('volsurgepredictor')\n",
    "    m3=joblib.load('rangepredictor')\n",
    "    macpred=m1.predict([[o,h,l,c,ac,v,ltma,stma,p1]])\n",
    "    vspred=m2.predict([[o,h,l,c,ac,v,avgvol,stdvol,avgopen,stdopen,p2]])\n",
    "    ranpred=m3.predict([[o,h,l,c,ac,v,p3]])\n",
    "    if macpred[0]>vspred[0] and macpred[0]>ranpred[0]:\n",
    "        print(\"Most Suitable Strategy:Moving Average Crossover\")\n",
    "        print(\"Predicted Return for buying tomorrow:\",macpred[0])\n",
    "    elif vspred[0]>macpred[0] and vspred[0]>ranpred[0]:\n",
    "        print(\"Most Suitable Strategy:Volume Surge Trading\")\n",
    "        print(\"Predicted Return for buying tomorrow:\",vspred[0])\n",
    "    else:\n",
    "        print(\"Most Suitable Strategy:Range Trading\")\n",
    "        print(\"Predicted Return for buying tomorrow:\",ranpred[0])\n",
    "        \n",
    "        "
   ]
  },
  {
   "cell_type": "code",
   "execution_count": 11,
   "id": "9ce6f379-dbc2-433f-94fb-fef7b15f9855",
   "metadata": {},
   "outputs": [
    {
     "name": "stdout",
     "output_type": "stream",
     "text": [
      "There are three strategies- Moving Average Crossover, Volume Surge, and Range Trading strategy\n",
      "For the ticker you provide, the model will train to predict tomorrow's return, using today's data, using each of these 3 strategies\n",
      "The strategy that will give the highest return for day trading tomorrow will be presented after calculation\n",
      "For the model to work, you need to provide some of the data at today's close\n"
     ]
    },
    {
     "name": "stdin",
     "output_type": "stream",
     "text": [
      "Enter ticker of the company you want to trade RELIANCE.NS\n",
      "Enter present date in yy-mm-dd format 2020-5-12\n"
     ]
    },
    {
     "name": "stderr",
     "output_type": "stream",
     "text": [
      "[*********************100%%**********************]  1 of 1 completed\n",
      "[*********************100%%**********************]  1 of 1 completed\n",
      "[*********************100%%**********************]  1 of 1 completed\n",
      "/var/folders/0f/qwg2wd5d1rbdpdh684rl_c8h0000gn/T/ipykernel_64635/1541381835.py:17: SettingWithCopyWarning: \n",
      "A value is trying to be set on a copy of a slice from a DataFrame\n",
      "\n",
      "See the caveats in the documentation: https://pandas.pydata.org/pandas-docs/stable/user_guide/indexing.html#returning-a-view-versus-a-copy\n",
      "  df.drop(columns=['high_avg','low_avg'],inplace=True)\n"
     ]
    },
    {
     "name": "stdin",
     "output_type": "stream",
     "text": [
      "enter today's open 2200.91\n",
      "enter today's high 2290.9\n",
      "enter today's low 2979.3\n",
      "enter today's close 2215.4\n",
      "enter today's adjusted close 2215.4\n",
      "enter today's volume 2509088\n",
      "Enter 50 day long term moving average as of today's end 2212.14\n",
      "Enter 20 day short term moving average as of today's end 2213.31\n",
      "Enter average volume for past 20 days 2409899\n",
      "Enter standard deviation of volume for past 20 days 2.3\n",
      "Enter average of open for past 20 days 2215.89\n",
      "Enter standard deviation of open for past 20 days 3.1\n",
      "Enter average of high for the past 20 days 2288.12\n",
      "Enter average of low for the past 20 days 2970.1\n"
     ]
    },
    {
     "name": "stdout",
     "output_type": "stream",
     "text": [
      "Most Suitable Strategy:Range Trading\n",
      "Predicted Return for buying tomorrow: 0.010835346649989386\n"
     ]
    },
    {
     "name": "stderr",
     "output_type": "stream",
     "text": [
      "/opt/anaconda3/lib/python3.12/site-packages/sklearn/base.py:493: UserWarning: X does not have valid feature names, but StandardScaler was fitted with feature names\n",
      "  warnings.warn(\n",
      "/opt/anaconda3/lib/python3.12/site-packages/sklearn/base.py:493: UserWarning: X does not have valid feature names, but StandardScaler was fitted with feature names\n",
      "  warnings.warn(\n",
      "/opt/anaconda3/lib/python3.12/site-packages/sklearn/base.py:493: UserWarning: X does not have valid feature names, but StandardScaler was fitted with feature names\n",
      "  warnings.warn(\n"
     ]
    }
   ],
   "source": [
    "print(\"There are three strategies- Moving Average Crossover, Volume Surge, and Range Trading strategy\")\n",
    "print(\"For the ticker you provide, the model will train to predict tomorrow's return, using today's data, using each of these 3 strategies\")\n",
    "print(\"The strategy that will give the highest return for day trading tomorrow will be presented after calculation\")\n",
    "print(\"For the model to work, you need to provide some of the data at today's close\")\n",
    "func()"
   ]
  },
  {
   "cell_type": "code",
   "execution_count": null,
   "id": "b43bc25d-8fd0-42b2-b822-fc4a40440702",
   "metadata": {},
   "outputs": [],
   "source": []
  }
 ],
 "metadata": {
  "kernelspec": {
   "display_name": "Python 3 (ipykernel)",
   "language": "python",
   "name": "python3"
  },
  "language_info": {
   "codemirror_mode": {
    "name": "ipython",
    "version": 3
   },
   "file_extension": ".py",
   "mimetype": "text/x-python",
   "name": "python",
   "nbconvert_exporter": "python",
   "pygments_lexer": "ipython3",
   "version": "3.12.2"
  }
 },
 "nbformat": 4,
 "nbformat_minor": 5
}
